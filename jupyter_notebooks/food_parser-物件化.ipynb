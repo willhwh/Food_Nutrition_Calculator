{
 "cells": [
  {
   "cell_type": "markdown",
   "metadata": {},
   "source": [
    "# import modules"
   ]
  },
  {
   "cell_type": "code",
   "execution_count": 1,
   "metadata": {},
   "outputs": [],
   "source": [
    "from selenium import webdriver\n",
    "from selenium.webdriver.chrome.options import Options\n",
    "from selenium.webdriver.support.ui import Select\n",
    "from selenium.webdriver.common.keys import Keys\n",
    "import time\n",
    "import os\n",
    "import csv\n",
    "import pandas as pd"
   ]
  },
  {
   "cell_type": "code",
   "execution_count": 2,
   "metadata": {},
   "outputs": [],
   "source": [
    "def static():\n",
    "    global meal_translator\n",
    "    global web_url\n",
    "    global driver\n",
    "    meal_translator = {'B':'Breakfast','L':\"Lunch\",'D':'Dinner','O':\"Others\"}\n",
    "    web_url = 'https://www.calorieking.com/us/en/foods/'\n",
    "    def start_program():\n",
    "        options = Options()\n",
    "        options.add_argument('--headless')\n",
    "        options.add_argument('--no-sandbox')\n",
    "        driver = webdriver.Chrome(options=options)\n",
    "        return driver\n",
    "    driver = start_program()\n",
    "    "
   ]
  },
  {
   "cell_type": "code",
   "execution_count": 3,
   "metadata": {},
   "outputs": [],
   "source": [
    "def create_file():\n",
    "    global columns\n",
    "    columns = ['Date', 'Meal_Time' , 'Brand', 'Food', 'Calories', 'Fat', 'Carbs', 'Fiber', 'Protein']\n",
    "    if os.path.isfile('food_recoder.csv') == False:\n",
    "        with open('food_recoder.csv', 'w', newline='') as csvfile:\n",
    "            writer = csv.writer(csvfile)\n",
    "            writer.writerow(columns)\n",
    "            "
   ]
  },
  {
   "cell_type": "code",
   "execution_count": 4,
   "metadata": {},
   "outputs": [],
   "source": [
    "def get_key_word():\n",
    "    driver.get(web_url)\n",
    "    time.sleep(0.2)\n",
    "    search_terms = input('Please enter a brand.\\t')\n",
    "    print(f'search for the terms: \\t{search_terms}')\n",
    "    # search the key words\n",
    "    search_field = driver.find_element_by_id('keywords')\n",
    "    search_field.send_keys(search_terms)\n",
    "    search_field.send_keys(Keys.RETURN)\n",
    "    # get search terms results\n",
    "    brands = driver.find_elements_by_class_name('jss5')\n",
    "    global result_lst\n",
    "    result_lst = [ i.find_element_by_class_name('MuiTypography-root').text for i in brands]\n",
    "    if 'iOS'in str(result_lst):\n",
    "        print('Please try another search tearms for brand.')\n",
    "        get_key_word(driver, web_url)\n",
    "    return result_lst"
   ]
  },
  {
   "cell_type": "code",
   "execution_count": 5,
   "metadata": {},
   "outputs": [],
   "source": [
    "def get_brand():\n",
    "    def check_brand():\n",
    "        for i in result_lst:\n",
    "            yield(i)\n",
    "    brands = check_brand()\n",
    "    correct = 'F'\n",
    "    global target_brand\n",
    "    while correct == 'F':\n",
    "        try:\n",
    "            brand_candidate = next(brands)\n",
    "            correct = input(f'If {brand_candidate} the brand you are looking for? T/F:\\t').upper()\n",
    "            if correct =='T':\n",
    "                target_brand = str(brand_candidate)\n",
    "                return target_brand \n",
    "                break\n",
    "        except: \n",
    "            print('Please try another search tearms for brand.')\n",
    "            get_key_word()\n",
    "            target_brand = get_brand()\n",
    "            return target_brand \n",
    "            break   "
   ]
  },
  {
   "cell_type": "code",
   "execution_count": 6,
   "metadata": {},
   "outputs": [],
   "source": [
    "def get_key_word_checked():\n",
    "    driver.get(web_url)\n",
    "    time.sleep(0.2)\n",
    "    global meal_terms\n",
    "    meal_terms = input('Please enter the main meal ingrediant.\\t').upper()\n",
    "    search_terms = target_brand + ' ' + meal_terms\n",
    "    print(f'search for the terms: {search_terms}')\n",
    "    # search the key words\n",
    "    search_field = driver.find_element_by_id('keywords')\n",
    "    search_field.send_keys(search_terms)\n",
    "    search_field.send_keys(Keys.RETURN)\n",
    "    # get search terms results\n",
    "    foods = driver.find_elements_by_class_name('jss374')\n",
    "    global food_lst\n",
    "    food_lst = [ i.text for i in foods]\n",
    "    if 'iOS'in str(food_lst):\n",
    "        print('Please try another search tearms for brand.')\n",
    "        get_key_word_checked()\n",
    "    return food_lst"
   ]
  },
  {
   "cell_type": "code",
   "execution_count": 7,
   "metadata": {},
   "outputs": [],
   "source": [
    "# narrow down to the specific dish and get the dish's info link\n",
    "def get_food():\n",
    "    count=0\n",
    "    def check_food(food_lst):\n",
    "        for i in food_lst:\n",
    "            yield(i)\n",
    "    foods = check_food(food_lst)\n",
    "    correct = 'F'\n",
    "    global target_food_url\n",
    "    global target_food\n",
    "    while correct == 'F':\n",
    "        try:\n",
    "            food_candidate = next(foods)\n",
    "            correct = input(f'If {food_candidate} the meal you are looking for? T/F:\\t').upper()\n",
    "            if correct =='T':\n",
    "                target_food = str(food_candidate)\n",
    "                url = driver.find_elements_by_class_name('MuiListItem-button')[count].get_attribute('href')\n",
    "                target_food_url = (url)\n",
    "                return target_food_url, target_food\n",
    "                break\n",
    "            else:\n",
    "                count=count+1\n",
    "        except: \n",
    "            print('Please try another search tearms for meal.')\n",
    "            get_key_word_checked()\n",
    "            target_food_url, target_food = get_food()\n",
    "            return target_food_url, target_food\n",
    "            break"
   ]
  },
  {
   "cell_type": "code",
   "execution_count": 8,
   "metadata": {},
   "outputs": [],
   "source": [
    "def get_food_info():\n",
    "    driver.get(target_food_url)\n",
    "    infos = driver.find_element_by_class_name('jss374')\n",
    "    infos = infos.text.split('\\n')\n",
    "    \n",
    "    calories = infos[0].split(' ')[0]\n",
    "    fat = infos[6].split(' ')[0]\n",
    "    carbs = infos[8].split(' ')[0]\n",
    "    fiber = infos[10].split(' ')[0]\n",
    "    protein = infos[12].split(' ')[0]\n",
    "    \n",
    "    return calories, fat, carbs, fiber, protein"
   ]
  },
  {
   "cell_type": "code",
   "execution_count": 9,
   "metadata": {},
   "outputs": [],
   "source": [
    "def get_time():\n",
    "    global date\n",
    "    date = input('Please enter the date. mm/dd/yyyy.\\t')\n",
    "    print('Please enter the meal time.')\n",
    "    global meal_time_transfered\n",
    "    meal_time = input('B---Breakfast\\nL---Lunch\\nD---Dinner\\nO---Others').upper()\n",
    "    if meal_time in ['B','L','D','O']:\n",
    "        meal_time_transfered = meal_translator[meal_time]\n",
    "    else:\n",
    "        print('Please enter the meal time again.')\n",
    "        get_time()\n",
    "    return date, meal_time_transfered"
   ]
  },
  {
   "cell_type": "code",
   "execution_count": 10,
   "metadata": {},
   "outputs": [],
   "source": [
    "def get_inputs(): \n",
    "    static()\n",
    "    result_lst = get_key_word()\n",
    "    target_brand = get_brand()\n",
    "    food_lst = get_key_word_checked()\n",
    "    target_food_url, target_food = get_food()\n",
    "    calories, fat, carbs, fiber, protein = get_food_info()\n",
    "    date, meal_time_transfered = get_time()\n",
    "    return date, meal_time_transfered, target_brand, target_food, calories, fat, carbs, fiber, protein"
   ]
  },
  {
   "cell_type": "code",
   "execution_count": 11,
   "metadata": {},
   "outputs": [],
   "source": [
    "def run_again():\n",
    "    run = input('Have another meal to record? T/F \\t').upper()\n",
    "    if run == 'T':\n",
    "        main()\n",
    "    else:\n",
    "        print('Thanks for using this software.')"
   ]
  },
  {
   "cell_type": "code",
   "execution_count": 12,
   "metadata": {},
   "outputs": [],
   "source": [
    "# check for results\n",
    "def check_result():\n",
    "    record = pd.read_csv('food_recoder.csv')\n",
    "    print(f'Total amount of {len(record)} data in the file.')\n",
    "    print(record.head())\n",
    "    "
   ]
  },
  {
   "cell_type": "code",
   "execution_count": 13,
   "metadata": {},
   "outputs": [],
   "source": [
    "class food:\n",
    "\n",
    "    def __init__(self, date, meal_time_transfered, target_brand, target_food,\n",
    "                 calories, fat, carbs, fiber, protein):\n",
    "        self.date = date\n",
    "        self.meal_time_transfered = meal_time_transfered\n",
    "        self.target_brand = target_brand \n",
    "        self.target_food = target_food\n",
    "        self.calories = calories\n",
    "        self.fat = fat\n",
    "        self.carbs = carbs\n",
    "        self.fiber = fiber\n",
    "        self. protein = protein\n",
    "        \n",
    "    def show_info(self): \n",
    "        data = [self.date, self.meal_time_transfered, self.target_brand, \n",
    "                                  self.target_food, self.calories, self.fat, self.carbs, self.fiber, self.protein]\n",
    "        columns = ['Date', 'Meal_Time' , 'Brand', 'Food', 'Calories', 'Fat', 'Carbs', 'Fiber', 'Protein']\n",
    "        meal_info = pd.DataFrame([data], columns = columns)\n",
    "        return meal_info\n",
    "\n",
    "        \n",
    "    def save_result(self):\n",
    "        with open('food_recoder.csv', 'a', newline='') as csvfile:\n",
    "            writer = csv.writer(csvfile)\n",
    "            writer.writerow([self.date, self.meal_time_transfered, self.target_brand, \n",
    "                            self.target_food, self.calories, self.fat, self.carbs, self.fiber, self.protein])\n"
   ]
  },
  {
   "cell_type": "code",
   "execution_count": 14,
   "metadata": {},
   "outputs": [],
   "source": [
    "def main():\n",
    "    create_file()\n",
    "    date, meal_time_transfered, target_brand, target_food, calories, fat, carbs, fiber, protein = get_inputs()\n",
    "    meal = food(date, meal_time_transfered, target_brand, target_food, calories, fat, carbs, fiber, protein)\n",
    "    meal.show_info()\n",
    "    meal.save_result()\n",
    "    run_again()\n",
    "    check_result()"
   ]
  },
  {
   "cell_type": "code",
   "execution_count": 15,
   "metadata": {},
   "outputs": [
    {
     "name": "stdout",
     "output_type": "stream",
     "text": [
      "Please enter a brand.\tkfc\n",
      "search for the terms: \tkfc\n",
      "If KFC the brand you are looking for? T/F:\tt\n",
      "Please enter the main meal ingrediant.\tchicken\n",
      "search for the terms: KFC CHICKEN\n",
      "If Chicken Hot Wings the meal you are looking for? T/F:\tf\n",
      "If Extra Crispy Chicken Tenders the meal you are looking for? T/F:\tf\n",
      "If Original Recipe Chicken Drumstick, bone in the meal you are looking for? T/F:\tf\n",
      "If Original Recipe Chicken Breast, bone in the meal you are looking for? T/F:\tf\n",
      "If Original Recipe Chicken Thigh, bone in the meal you are looking for? T/F:\tt\n",
      "Please enter the date. mm/dd/yyyy.\t01/02/2021\n",
      "Please enter the meal time.\n",
      "B---Breakfast\n",
      "L---Lunch\n",
      "D---Dinner\n",
      "O---Otherso\n",
      "Have another meal to record? T/F \tf\n",
      "Thanks for using this software.\n",
      "Total amount of 3 data in the file.\n",
      "         Time  Meal_Time       Brand                                    Food  \\\n",
      "0  01/02/2021  Breakfast    Popeye's       Classic or Spicy Chicken Sandwich   \n",
      "1  01/02/2021     Dinner  Applebee's     Sirloin Steak (8 oz), without sides   \n",
      "2  01/02/2021     Others         KFC  Original Recipe Chicken Thigh, bone in   \n",
      "\n",
      "   Calories  Fat  Carbs  Fiber  Protein  \n",
      "0       700   42     50      2       28  \n",
      "1       280   12      1      1       43  \n",
      "2       280   19      8      1       19  \n"
     ]
    }
   ],
   "source": [
    "main()"
   ]
  },
  {
   "cell_type": "code",
   "execution_count": null,
   "metadata": {},
   "outputs": [],
   "source": []
  },
  {
   "cell_type": "code",
   "execution_count": null,
   "metadata": {},
   "outputs": [],
   "source": []
  }
 ],
 "metadata": {
  "kernelspec": {
   "display_name": "Python 3",
   "language": "python",
   "name": "python3"
  },
  "language_info": {
   "codemirror_mode": {
    "name": "ipython",
    "version": 3
   },
   "file_extension": ".py",
   "mimetype": "text/x-python",
   "name": "python",
   "nbconvert_exporter": "python",
   "pygments_lexer": "ipython3",
   "version": "3.7.4"
  }
 },
 "nbformat": 4,
 "nbformat_minor": 2
}
