{
 "cells": [
  {
   "cell_type": "markdown",
   "metadata": {},
   "source": [
    "# import modules"
   ]
  },
  {
   "cell_type": "code",
   "execution_count": 1,
   "metadata": {},
   "outputs": [],
   "source": [
    "from selenium import webdriver\n",
    "from selenium.webdriver.chrome.options import Options\n",
    "from selenium.webdriver.support.ui import Select\n",
    "import time\n",
    "import os\n",
    "import csv"
   ]
  },
  {
   "cell_type": "markdown",
   "metadata": {},
   "source": [
    "# start a selenium driven browser"
   ]
  },
  {
   "cell_type": "code",
   "execution_count": 2,
   "metadata": {},
   "outputs": [
    {
     "name": "stderr",
     "output_type": "stream",
     "text": [
      "/Users/mac/opt/anaconda3/lib/python3.7/site-packages/ipykernel_launcher.py:6: DeprecationWarning: use options instead of chrome_options\n",
      "  \n"
     ]
    }
   ],
   "source": [
    "options = Options()\n",
    "options.add_argument('--headless')\n",
    "options.add_argument('--no-sandbox')\n",
    "\n",
    "web_url = 'https://www.calorieking.com/us/en/'\n",
    "driver = webdriver.Chrome(chrome_options=options)\n",
    "result_lst = []\n",
    "target_brand =''\n",
    "food_lst = []\n",
    "target_food =''\n",
    "target_food_url = ''\n",
    "calories = ''\n",
    "fat = ''\n",
    "carbs = ''\n",
    "fiber = ''\n",
    "protein = ''\n",
    "status = False"
   ]
  },
  {
   "cell_type": "code",
   "execution_count": 3,
   "metadata": {},
   "outputs": [],
   "source": [
    "# get brand key word\n",
    "def get_key_word():\n",
    "    driver.get(web_url)\n",
    "    time.sleep(0.2)\n",
    "    search_terms = input('Please enter a search terms.\\t')\n",
    "    print(f'search for the terms: {search_terms}')\n",
    "    # search the key words\n",
    "    search_field = driver.find_element_by_id('keywords')\n",
    "    search_field.send_keys(search_terms)\n",
    "    search_btn = driver.find_element_by_xpath('//*[@id=\"__next\"]/main/section[1]/div/form/div/div[2]/button')\n",
    "    search_btn.click()\n",
    "    # get search terms results\n",
    "    brands = driver.find_elements_by_class_name('jss5')\n",
    "    global result_lst\n",
    "    result_lst = [ i.find_element_by_class_name('MuiTypography-root').text for i in brands]\n",
    "    if 'for iOS'in str(result_lst):\n",
    "        print('Please try another search tearms for brand.')\n",
    "        get_key_word()"
   ]
  },
  {
   "cell_type": "code",
   "execution_count": 4,
   "metadata": {},
   "outputs": [],
   "source": [
    "#narrow down to the specific brand\n",
    "def get_brand():\n",
    "    def check_brand():\n",
    "        for i in result_lst:\n",
    "            yield(i)\n",
    "    brands = check_brand()\n",
    "    correct = 'F'\n",
    "    global target_brand\n",
    "    global status\n",
    "    status = False\n",
    "    while correct == 'F':\n",
    "        try:\n",
    "            brand_candidate = next(brands)\n",
    "            correct = input(f'If {brand_candidate} the brand you are looking for? T/F:\\t').upper()\n",
    "            if correct =='T':\n",
    "                target_brand = str(brand_candidate)\n",
    "                status = True\n",
    "                break\n",
    "        except: \n",
    "            print('Please try another search tearms for brand.')\n",
    "            get_key_word()\n",
    "            get_brand()\n",
    "            break\n",
    "        \n",
    "            \n"
   ]
  },
  {
   "cell_type": "code",
   "execution_count": 5,
   "metadata": {},
   "outputs": [],
   "source": [
    "# search for the dish of the brand found in get_brand()\n",
    "def get_key_word_checked():\n",
    "    global target_brand\n",
    "    driver.get(web_url)\n",
    "    time.sleep(0.2)\n",
    "    meal_terms = input('Please enter the main meal ingrediant.\\t').upper()\n",
    "    search_terms = target_brand + ' ' + meal_terms\n",
    "    print(f'search for the terms: {search_terms}')\n",
    "    # search the key words\n",
    "    search_field = driver.find_element_by_id('keywords')\n",
    "    search_field.send_keys(search_terms)\n",
    "    search_btn = driver.find_element_by_xpath('//*[@id=\"__next\"]/main/section[1]/div/form/div/div[2]/button')\n",
    "    search_btn.click()\n",
    "    # get search terms results\n",
    "    foods = driver.find_elements_by_class_name('jss374')\n",
    "    global food_lst\n",
    "    food_lst = [ i.text for i in foods]\n",
    "    if 'for iOS'in str(food_lst):\n",
    "        print('Please try another search tearms for brand.')\n",
    "        get_key_word_checked()\n"
   ]
  },
  {
   "cell_type": "code",
   "execution_count": 6,
   "metadata": {},
   "outputs": [],
   "source": [
    "# narrow down to the specific dish and get the dish's info link\n",
    "def get_food():\n",
    "    global target_food_url\n",
    "    count=0\n",
    "    def check_food():\n",
    "        for i in food_lst:\n",
    "            yield(i)\n",
    "    foods = check_food()\n",
    "    correct = 'F'\n",
    "    global target_food\n",
    "    global status\n",
    "    status = False\n",
    "    while correct == 'F':\n",
    "        try:\n",
    "            food_candidate = next(foods)\n",
    "            correct = input(f'If {food_candidate} the meal you are looking for? T/F:\\t').upper()\n",
    "            if correct =='T':\n",
    "                target_food = str(food_candidate)\n",
    "                url = driver.find_elements_by_class_name('MuiListItem-button')[count].get_attribute('href')\n",
    "                target_food_url = (url)\n",
    "                status = True\n",
    "                break\n",
    "            else:\n",
    "                count=count+1\n",
    "        except: \n",
    "            print('Please try another search tearms for meal.')\n",
    "            get_key_word_checked()\n",
    "            get_food()\n",
    "            break\n",
    "            \n",
    "    \n"
   ]
  },
  {
   "cell_type": "code",
   "execution_count": 7,
   "metadata": {},
   "outputs": [],
   "source": [
    "def get_food_info():\n",
    "    \n",
    "    global target_food_url\n",
    "    driver.get(target_food_url)\n",
    "    infos = driver.find_element_by_class_name('jss374')\n",
    "    infos = infos.text.split('\\n')\n",
    "    \n",
    "    global calories\n",
    "    global fat\n",
    "    global carbs\n",
    "    global fiber\n",
    "    global protein\n",
    "    calories = infos[0].split(' ')[0]\n",
    "    fat = infos[6].split(' ')[0]\n",
    "    carbs = infos[8].split(' ')[0]\n",
    "    fiber = infos[10].split(' ')[0]\n",
    "    protein = infos[12].split(' ')[0]\n",
    "    \n",
    "    \n"
   ]
  },
  {
   "cell_type": "code",
   "execution_count": 8,
   "metadata": {},
   "outputs": [],
   "source": [
    "meal_translator = {'B':'Breakfast','L':\"Lunch\",'D':'Dinner','O':\"Others\"}\n",
    "def save_result():\n",
    "    if os.path.isfile('food_recoder.csv') == False:\n",
    "        with open('food_recoder.csv', 'w', newline='') as csvfile:\n",
    "            writer = csv.writer(csvfile)\n",
    "            writer.writerow(['Time', 'Meal_Time' , 'Brand', 'Food', 'Calories', 'Fat', 'Carbs', 'Fiber', 'Protein'])\n",
    "    \n",
    "    time = input('Please enter the date. mm/dd/yyyy.\\t')\n",
    "    print('Please enter the meal time.')\n",
    "    meal_time = input('B---Breakfast\\nL---Lunch\\nD---Dinner\\nO---Others').upper()\n",
    "    meal_time_transfered = meal_translator[meal_time]\n",
    "    with open('food_recoder.csv', 'a', newline='') as csvfile:\n",
    "        writer = csv.writer(csvfile)\n",
    "        writer.writerow([time, meal_time, target_brand, target_food, calories, fat, carbs, fiber, protein])\n",
    "\n"
   ]
  },
  {
   "cell_type": "code",
   "execution_count": 9,
   "metadata": {},
   "outputs": [],
   "source": [
    "def run_again():\n",
    "    run = input('Have another meal to record? T/F \\t').upper()\n",
    "    if run == 'T':\n",
    "        main()\n",
    "    else:\n",
    "        print('Thanks for using this software.')\n",
    "        "
   ]
  },
  {
   "cell_type": "code",
   "execution_count": 10,
   "metadata": {},
   "outputs": [],
   "source": [
    "def main():\n",
    "    get_key_word()\n",
    "    get_brand()\n",
    "    global status\n",
    "    if status == True:\n",
    "        get_key_word_checked()\n",
    "    get_food()\n",
    "    if status == True:\n",
    "        get_food_info()\n",
    "    save_result()\n",
    "    run_again()"
   ]
  },
  {
   "cell_type": "code",
   "execution_count": 11,
   "metadata": {},
   "outputs": [
    {
     "name": "stdout",
     "output_type": "stream",
     "text": [
      "Please enter a search terms.\tstarbucks\n",
      "search for the terms: starbucks\n",
      "If Starbucks the brand you are looking for? T/F:\tf\n",
      "If Starbucks Grocery the brand you are looking for? T/F:\tf\n",
      "Please try another search tearms for brand.\n",
      "Please enter a search terms.\tapplebee\n",
      "search for the terms: applebee\n",
      "If Applebee's the brand you are looking for? T/F:\tt\n",
      "Please enter the main meal ingrediant.\tcoffee\n",
      "search for the terms: Applebee's COFFEE\n",
      "Please try another search tearms for brand.\n",
      "Please enter the main meal ingrediant.\tsteak\n",
      "search for the terms: Applebee's STEAK\n",
      "If Sirloin Steak (8 oz), without sides the meal you are looking for? T/F:\tf\n",
      "If Sirloin Steak (6 oz), without sides the meal you are looking for? T/F:\tf\n",
      "If Southwest Steak Salad, with House-Made Cilantro Ranch Dressing the meal you are looking for? T/F:\tf\n",
      "If Grilled Steak Caesar Salad, with dressing the meal you are looking for? T/F:\tf\n",
      "Please try another search tearms for meal.\n",
      "Please enter the main meal ingrediant.\tsteak\n",
      "search for the terms: Applebee's STEAK\n",
      "If Sirloin Steak (8 oz), without sides the meal you are looking for? T/F:\tt\n",
      "Please enter the date. mm/dd/yyyy.\t01/02/2021\n",
      "Please enter the meal time.\n",
      "B---Breakfast\n",
      "L---Lunch\n",
      "D---Dinner\n",
      "O---Othersd\n",
      "Have another meal to record? T/F \tt\n",
      "Please enter a search terms.\tpopeye\n",
      "search for the terms: popeye\n",
      "If Popeye's the brand you are looking for? T/F:\tt\n",
      "Please enter the main meal ingrediant.\tchicken\n",
      "search for the terms: Popeye's CHICKEN\n",
      "If Classic or Spicy Chicken Sandwich the meal you are looking for? T/F:\tt\n",
      "Please enter the date. mm/dd/yyyy.\t01/02/2021\n",
      "Please enter the meal time.\n",
      "B---Breakfast\n",
      "L---Lunch\n",
      "D---Dinner\n",
      "O---Othersb\n",
      "Have another meal to record? T/F \tf\n",
      "Thanks for using this software.\n"
     ]
    }
   ],
   "source": [
    "main()"
   ]
  },
  {
   "cell_type": "code",
   "execution_count": 12,
   "metadata": {},
   "outputs": [
    {
     "data": {
      "text/html": [
       "<div>\n",
       "<style scoped>\n",
       "    .dataframe tbody tr th:only-of-type {\n",
       "        vertical-align: middle;\n",
       "    }\n",
       "\n",
       "    .dataframe tbody tr th {\n",
       "        vertical-align: top;\n",
       "    }\n",
       "\n",
       "    .dataframe thead th {\n",
       "        text-align: right;\n",
       "    }\n",
       "</style>\n",
       "<table border=\"1\" class=\"dataframe\">\n",
       "  <thead>\n",
       "    <tr style=\"text-align: right;\">\n",
       "      <th></th>\n",
       "      <th>Time</th>\n",
       "      <th>Meal_Time</th>\n",
       "      <th>Brand</th>\n",
       "      <th>Food</th>\n",
       "      <th>Calories</th>\n",
       "      <th>Fat</th>\n",
       "      <th>Carbs</th>\n",
       "      <th>Fiber</th>\n",
       "      <th>Protein</th>\n",
       "    </tr>\n",
       "  </thead>\n",
       "  <tbody>\n",
       "    <tr>\n",
       "      <th>0</th>\n",
       "      <td>01/02/2021</td>\n",
       "      <td>D</td>\n",
       "      <td>Applebee's</td>\n",
       "      <td>Sirloin Steak (8 oz), without sides</td>\n",
       "      <td>280</td>\n",
       "      <td>12</td>\n",
       "      <td>1</td>\n",
       "      <td>1</td>\n",
       "      <td>43</td>\n",
       "    </tr>\n",
       "    <tr>\n",
       "      <th>1</th>\n",
       "      <td>01/02/2021</td>\n",
       "      <td>D</td>\n",
       "      <td>Applebee's</td>\n",
       "      <td>Sirloin Steak (8 oz), without sides</td>\n",
       "      <td>280</td>\n",
       "      <td>12</td>\n",
       "      <td>1</td>\n",
       "      <td>1</td>\n",
       "      <td>43</td>\n",
       "    </tr>\n",
       "    <tr>\n",
       "      <th>2</th>\n",
       "      <td>01/02/2021</td>\n",
       "      <td>B</td>\n",
       "      <td>Popeye's</td>\n",
       "      <td>Classic or Spicy Chicken Sandwich</td>\n",
       "      <td>700</td>\n",
       "      <td>42</td>\n",
       "      <td>50</td>\n",
       "      <td>2</td>\n",
       "      <td>28</td>\n",
       "    </tr>\n",
       "  </tbody>\n",
       "</table>\n",
       "</div>"
      ],
      "text/plain": [
       "         Time Meal_Time       Brand                                 Food  \\\n",
       "0  01/02/2021         D  Applebee's  Sirloin Steak (8 oz), without sides   \n",
       "1  01/02/2021         D  Applebee's  Sirloin Steak (8 oz), without sides   \n",
       "2  01/02/2021         B    Popeye's    Classic or Spicy Chicken Sandwich   \n",
       "\n",
       "   Calories  Fat  Carbs  Fiber  Protein  \n",
       "0       280   12      1      1       43  \n",
       "1       280   12      1      1       43  \n",
       "2       700   42     50      2       28  "
      ]
     },
     "execution_count": 12,
     "metadata": {},
     "output_type": "execute_result"
    }
   ],
   "source": [
    "# check for results\n",
    "import pandas as pd\n",
    "record = pd.read_csv('food_recoder.csv')\n",
    "record.head()"
   ]
  },
  {
   "cell_type": "code",
   "execution_count": null,
   "metadata": {},
   "outputs": [],
   "source": []
  }
 ],
 "metadata": {
  "kernelspec": {
   "display_name": "Python 3",
   "language": "python",
   "name": "python3"
  },
  "language_info": {
   "codemirror_mode": {
    "name": "ipython",
    "version": 3
   },
   "file_extension": ".py",
   "mimetype": "text/x-python",
   "name": "python",
   "nbconvert_exporter": "python",
   "pygments_lexer": "ipython3",
   "version": "3.7.4"
  }
 },
 "nbformat": 4,
 "nbformat_minor": 2
}
