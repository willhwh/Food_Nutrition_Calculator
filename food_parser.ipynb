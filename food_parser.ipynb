{
 "cells": [
  {
   "cell_type": "markdown",
   "metadata": {},
   "source": [
    "# import modules"
   ]
  },
  {
   "cell_type": "code",
   "execution_count": 70,
   "metadata": {},
   "outputs": [],
   "source": [
    "from selenium import webdriver\n",
    "from selenium.webdriver.chrome.options import Options\n",
    "from selenium.webdriver.support.ui import Select\n",
    "import time"
   ]
  },
  {
   "cell_type": "markdown",
   "metadata": {},
   "source": [
    "# start a selenium driven browser"
   ]
  },
  {
   "cell_type": "code",
   "execution_count": 215,
   "metadata": {},
   "outputs": [],
   "source": [
    "options = Options()\n",
    "# options.add_argument('--headless')\n",
    "# options.add_argument('--no-sandbox')"
   ]
  },
  {
   "cell_type": "code",
   "execution_count": 231,
   "metadata": {},
   "outputs": [],
   "source": [
    "web_url = 'https://www.calorieking.com/us/en/'\n",
    "# browser= webdriver.Chrome(chrome_options=options).get(web_url)\n",
    "driver = webdriver.Chrome()\n",
    "driver.get(web_url)\n",
    "time.sleep(2)"
   ]
  },
  {
   "cell_type": "code",
   "execution_count": 232,
   "metadata": {},
   "outputs": [
    {
     "name": "stdout",
     "output_type": "stream",
     "text": [
      "Please enter a search termsapplebee\n",
      "search for the terms: applebee\n"
     ]
    }
   ],
   "source": [
    "# get user's key word\n",
    "result_lst = []\n",
    "def get_key_word():\n",
    "    driver.get(web_url)\n",
    "    time.sleep(2)\n",
    "    search_terms = input('Please enter a search terms')\n",
    "    print(f'search for the terms: {search_terms}')\n",
    "    # search the key words\n",
    "    search_field = driver.find_element_by_id('keywords')\n",
    "    search_field.send_keys(search_terms)\n",
    "    search_btn = driver.find_element_by_xpath('//*[@id=\"__next\"]/main/section[1]/div/form/div/div[2]/button')\n",
    "    search_btn.click()\n",
    "    # get search terms results\n",
    "    brands = driver.find_elements_by_class_name('jss5')\n",
    "    global result_lst\n",
    "    result_lst = [ i.find_element_by_class_name('MuiTypography-root').text for i in brands]\n",
    "\n",
    "get_key_word()"
   ]
  },
  {
   "cell_type": "code",
   "execution_count": 233,
   "metadata": {},
   "outputs": [
    {
     "name": "stdout",
     "output_type": "stream",
     "text": [
      "If Applebee's the one you are looking for? T/F: T\n"
     ]
    }
   ],
   "source": [
    "target_brand =''\n",
    " \n",
    "def get_brand():\n",
    "    def check_brand():\n",
    "        for i in result_lst:\n",
    "            yield(i)\n",
    "    brands = check_brand()\n",
    "    correct = 'F'\n",
    "    global target_brand\n",
    "    while correct == 'F':\n",
    "        try:\n",
    "            brand_candidate = next(brands)\n",
    "            correct = input(f'If {brand_candidate} the one you are looking for? T/F: ')\n",
    "            if correct =='T':\n",
    "                target_brand = str(brand_candidate)\n",
    "                pass\n",
    "            else:\n",
    "                continue\n",
    "        except: \n",
    "            print('Please try another search tearms.')\n",
    "            get_key_word()\n",
    "    \n",
    "get_brand()"
   ]
  },
  {
   "cell_type": "code",
   "execution_count": null,
   "metadata": {},
   "outputs": [],
   "source": [
    "<span class=\"MuiTypography-root MuiListItemText-primary jss374 MuiTypography-body2 MuiTypography-noWrap MuiTypography-displayBlock\">Sirloin Steak (8 oz), without sides</span>"
   ]
  },
  {
   "cell_type": "code",
   "execution_count": 243,
   "metadata": {},
   "outputs": [
    {
     "name": "stdout",
     "output_type": "stream",
     "text": [
      "Please enter the main meal ingrediant.steak\n",
      "search for the terms: Applebee's steak\n"
     ]
    }
   ],
   "source": [
    "food_lst = []\n",
    "def get_key_word_checked():\n",
    "    global target_brand\n",
    "    driver.get(web_url)\n",
    "    time.sleep(2)\n",
    "    meal_terms = input('Please enter the main meal ingrediant.')\n",
    "    search_terms = target_brand + ' ' + meal_terms\n",
    "    print(f'search for the terms: {search_terms}')\n",
    "    # search the key words\n",
    "    search_field = driver.find_element_by_id('keywords')\n",
    "    search_field.send_keys(search_terms)\n",
    "    search_btn = driver.find_element_by_xpath('//*[@id=\"__next\"]/main/section[1]/div/form/div/div[2]/button')\n",
    "    search_btn.click()\n",
    "    # get search terms results\n",
    "    foods = driver.find_elements_by_class_name('jss374')\n",
    "    global food_lst\n",
    "    food_lst = [ i.text for i in foods]\n",
    "\n",
    "get_key_word_checked()"
   ]
  },
  {
   "cell_type": "code",
   "execution_count": 255,
   "metadata": {},
   "outputs": [
    {
     "name": "stdout",
     "output_type": "stream",
     "text": [
      "If Sirloin Steak (8 oz), without sides the one you are looking for? T/F: F\n",
      "If Sirloin Steak (6 oz), without sides the one you are looking for? T/F: T\n"
     ]
    }
   ],
   "source": [
    "target_food =''\n",
    "target_food_url = ''\n",
    "count = 0\n",
    "def get_food():\n",
    "    global count\n",
    "    global target_food_url\n",
    "    count=0\n",
    "    def check_food():\n",
    "        for i in food_lst:\n",
    "            yield(i)\n",
    "    foods = check_food()\n",
    "    correct = 'F'\n",
    "    global target_food\n",
    "    while correct == 'F':\n",
    "        try:\n",
    "            food_candidate = next(foods)\n",
    "            correct = input(f'If {food_candidate} the one you are looking for? T/F: ')\n",
    "            if correct =='T':\n",
    "                target_food = str(food_candidate)\n",
    "                pass\n",
    "            else:\n",
    "                count=count+1\n",
    "                continue\n",
    "        except: \n",
    "            print('Please try another search tearms.')\n",
    "            get_key_word()\n",
    "    driver.find_elements_by_class_name('MuiListItem-button')[count].click()\n",
    "    target_food_url = (driver.current_url)\n",
    "get_food()"
   ]
  },
  {
   "cell_type": "code",
   "execution_count": 256,
   "metadata": {},
   "outputs": [
    {
     "data": {
      "text/plain": [
       "'https://www.calorieking.com/us/en/foods/f/calories-in-menu-items-sirloin-steak-6-oz-without-sides/Yu-tgIu8RPyayyCmRQxnXw'"
      ]
     },
     "execution_count": 256,
     "metadata": {},
     "output_type": "execute_result"
    }
   ],
   "source": [
    "target_food_url"
   ]
  },
  {
   "cell_type": "markdown",
   "metadata": {},
   "source": [
    "# close the browser"
   ]
  },
  {
   "cell_type": "code",
   "execution_count": null,
   "metadata": {},
   "outputs": [],
   "source": [
    "browser.close()"
   ]
  },
  {
   "cell_type": "code",
   "execution_count": null,
   "metadata": {},
   "outputs": [],
   "source": []
  }
 ],
 "metadata": {
  "kernelspec": {
   "display_name": "Python 3",
   "language": "python",
   "name": "python3"
  },
  "language_info": {
   "codemirror_mode": {
    "name": "ipython",
    "version": 3
   },
   "file_extension": ".py",
   "mimetype": "text/x-python",
   "name": "python",
   "nbconvert_exporter": "python",
   "pygments_lexer": "ipython3",
   "version": "3.7.4"
  }
 },
 "nbformat": 4,
 "nbformat_minor": 2
}
